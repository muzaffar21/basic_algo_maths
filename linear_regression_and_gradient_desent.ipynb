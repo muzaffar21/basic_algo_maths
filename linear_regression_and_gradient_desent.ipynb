{
 "cells": [
  {
   "cell_type": "code",
   "execution_count": 1,
   "id": "728ac94f-344e-45c5-9fc5-cd0ae9866f24",
   "metadata": {},
   "outputs": [],
   "source": [
    "import pandas as pd\n",
    "import numpy as np\n",
    "import random\n",
    "import math\n",
    "import matplotlib.pyplot as plt\n",
    "from sklearn.preprocessing import StandardScaler"
   ]
  },
  {
   "cell_type": "markdown",
   "id": "597f2f70-c589-469a-9b31-15da2442a0bb",
   "metadata": {},
   "source": [
    "# linear regression equation:\n",
    "## y = mx + b (m is slope and b is intercept"
   ]
  },
  {
   "cell_type": "code",
   "execution_count": 142,
   "id": "2daed811-1f19-4699-bf9c-86c2183b4fea",
   "metadata": {},
   "outputs": [],
   "source": [
    "X = np.random.random(10)"
   ]
  },
  {
   "cell_type": "code",
   "execution_count": 143,
   "id": "922f6c94-dd04-4b5b-886f-c59d9e5cc451",
   "metadata": {},
   "outputs": [],
   "source": [
    "Y = np.random.random(10)"
   ]
  },
  {
   "cell_type": "code",
   "execution_count": 10,
   "id": "d8076474-4474-441e-85b5-00a198be356a",
   "metadata": {},
   "outputs": [
    {
     "data": {
      "text/plain": [
       "(array([0.18630997, 0.09522762, 0.04074272, 0.21936918, 0.59104278,\n",
       "        0.47760066, 0.38149799, 0.61549791, 0.63181954, 0.71640722]),\n",
       " array([0.54702388, 0.42792689, 0.24449321, 0.3927582 , 0.4862842 ,\n",
       "        0.76694243, 0.80796317, 0.13263805, 0.71163717, 0.85943088]))"
      ]
     },
     "execution_count": 10,
     "metadata": {},
     "output_type": "execute_result"
    }
   ],
   "source": [
    "X, Y"
   ]
  },
  {
   "cell_type": "code",
   "execution_count": 11,
   "id": "13eda469-6a93-4f70-9d1b-10e9103a87a9",
   "metadata": {},
   "outputs": [],
   "source": [
    "# X and Y is training data and for 10 different value of X we have value of Y.\n",
    "# Now the problem is to find values of m and b using X and Y, so that we can predict values of Y given X."
   ]
  },
  {
   "cell_type": "code",
   "execution_count": 20,
   "id": "351073fb-58fa-439c-8fc0-97c9ad4243d6",
   "metadata": {},
   "outputs": [
    {
     "data": {
      "text/plain": [
       "(0.8964790577597126, 0.3091232796296768)"
      ]
     },
     "execution_count": 20,
     "metadata": {},
     "output_type": "execute_result"
    }
   ],
   "source": [
    "# Now randomly intialize m and b\n",
    "m = random.random()\n",
    "b = random.random()\n",
    "m, b"
   ]
  },
  {
   "cell_type": "code",
   "execution_count": 22,
   "id": "887acc19-12df-407a-96b9-a14970fa6880",
   "metadata": {},
   "outputs": [],
   "source": [
    "# step1 :- Get values of Y_pred using above equation"
   ]
  },
  {
   "cell_type": "code",
   "execution_count": 23,
   "id": "3f0a2e1c-7974-40cf-ae02-82870f1284ef",
   "metadata": {},
   "outputs": [
    {
     "data": {
      "text/plain": [
       "[0.47614626920137926,\n",
       " 0.39449284443840593,\n",
       " 0.3456482719470539,\n",
       " 0.5057831533579448,\n",
       " 0.83898075151299,\n",
       " 0.7372822727283647,\n",
       " 0.6511282423921124,\n",
       " 0.8609042627963648,\n",
       " 0.8755362689390566,\n",
       " 0.9513673533387624]"
      ]
     },
     "execution_count": 23,
     "metadata": {},
     "output_type": "execute_result"
    }
   ],
   "source": [
    "Y_pred = [m*x + b for x in X]\n",
    "Y_pred"
   ]
  },
  {
   "cell_type": "code",
   "execution_count": 24,
   "id": "fd2fcd2f-9880-4777-b090-cd951704e6b6",
   "metadata": {},
   "outputs": [],
   "source": [
    "# Step2 :- Calculate error, i.e difference between y and y_pred"
   ]
  },
  {
   "cell_type": "code",
   "execution_count": 28,
   "id": "2a6a2b5c-3f84-4faa-a824-f8b94f9dda22",
   "metadata": {},
   "outputs": [
    {
     "data": {
      "text/plain": [
       "array([ 0.07087761,  0.03343405, -0.10115506, -0.11302495, -0.35269655,\n",
       "        0.02966015,  0.15683493, -0.72826621, -0.1638991 , -0.09193647])"
      ]
     },
     "execution_count": 28,
     "metadata": {},
     "output_type": "execute_result"
    }
   ],
   "source": [
    "error = Y - Y_pred\n",
    "error"
   ]
  },
  {
   "cell_type": "code",
   "execution_count": 29,
   "id": "3b0eeff8-84cc-460f-a213-9fa3c9b723b2",
   "metadata": {},
   "outputs": [],
   "source": [
    "sq_error = error*error"
   ]
  },
  {
   "cell_type": "code",
   "execution_count": 33,
   "id": "12d757a1-91be-41a2-96ee-9bb791541ecc",
   "metadata": {},
   "outputs": [
    {
     "data": {
      "text/plain": [
       "0.0011178356994025"
      ]
     },
     "execution_count": 33,
     "metadata": {},
     "output_type": "execute_result"
    }
   ],
   "source": [
    "0.03343405*0.03343405"
   ]
  },
  {
   "cell_type": "code",
   "execution_count": 34,
   "id": "40891180-4adb-4aec-bea0-b485dbc8086b",
   "metadata": {},
   "outputs": [
    {
     "data": {
      "text/plain": [
       "array([0.00502364, 0.00111784, 0.01023235, 0.01277464, 0.12439486,\n",
       "       0.00087972, 0.0245972 , 0.53037167, 0.02686292, 0.00845231])"
      ]
     },
     "execution_count": 34,
     "metadata": {},
     "output_type": "execute_result"
    }
   ],
   "source": [
    "sq_error"
   ]
  },
  {
   "cell_type": "code",
   "execution_count": 43,
   "id": "f7b9fe4c-8cc8-4d90-9598-6cd2e3d83180",
   "metadata": {},
   "outputs": [],
   "source": [
    "mse =sq_error.mean()"
   ]
  },
  {
   "cell_type": "code",
   "execution_count": 44,
   "id": "38942eb1-1c93-4280-ae54-04c8b98589fa",
   "metadata": {},
   "outputs": [
    {
     "data": {
      "text/plain": [
       "0.07447071375435756"
      ]
     },
     "execution_count": 44,
     "metadata": {},
     "output_type": "execute_result"
    }
   ],
   "source": [
    "mse"
   ]
  },
  {
   "cell_type": "code",
   "execution_count": 39,
   "id": "2e699585-bcec-432f-b563-a24b1cdedfa0",
   "metadata": {},
   "outputs": [],
   "source": [
    "# Now we have to find the value of m and b such that error is minimum (zero)"
   ]
  },
  {
   "cell_type": "code",
   "execution_count": 40,
   "id": "f39cb154-e8f4-421d-a2a0-79f4c0b8d33f",
   "metadata": {},
   "outputs": [],
   "source": [
    "#error farmulae"
   ]
  },
  {
   "cell_type": "code",
   "execution_count": 41,
   "id": "069c7637-4642-4035-9765-70eeb451a3d4",
   "metadata": {},
   "outputs": [],
   "source": [
    "# error = (sum([ -Y_pred]^2))/n\n",
    "# error = (sum([Y - m*X + b]^2))/n\n",
    "# Now to get error minimum, we have to we can not change Y, since Y is given, can not chnage X as X is always an input vector\n",
    "# (say single dimensional array) , so, to make above term zero or minimim, we have to find values of m and b , such that error is minimum."
   ]
  },
  {
   "cell_type": "code",
   "execution_count": 42,
   "id": "f35cc15c-ef24-424d-8585-d511593ff927",
   "metadata": {},
   "outputs": [],
   "source": [
    "# We will use gradient descent menthod to find optimal values of m and b.\n",
    "# In simple terms we will try to find rate of change of error w.r.t m and b by using partial derrivates of function w.r.t m and b\n",
    "# This will give us the steepest direction in which function, i.e moving in -ve direction of partial derrivative, we move to the minima of \n",
    "# function."
   ]
  },
  {
   "cell_type": "raw",
   "id": "80f65dd9-fcb0-4082-9b39-3fdcf0d914e4",
   "metadata": {},
   "source": [
    "# partial derrivative w.r.t m \n",
    "# D(error)/D(m) =  D((sum([y - m*x + b]^2))/n)/D(m)\n",
    "#               = 1/n*D((sum([y - m*x + b]^2)))/D(m)\n",
    "#               = 1/n*D((sum([y^2 + (m*x + b)^2  - 2*y(m*x + b)])))/D(m)\n",
    "#               = 1/n*D((sum([y^2 + m^2*x^2 + b^2 + 2mxb - 2*y*m*x -2*y*b)])))/D(m)\n",
    "\n",
    "\n",
    "# Now lets compute partial derrivative of all the above terms w.r.t m\n",
    "\"\"\"\n",
    "D(y^2)/D(m)  = 0\n",
    "D(m^2*x^2)/D(m)  = 2mx^2\n",
    "D( b^2)/D(m)  = 0\n",
    "D(2mxb)/D(m)  = 2xb\n",
    "D(2*y*m*x)/D(m)  = 2yx\n",
    "D(-2*y*b)/D(m)  = 0\n",
    "\n",
    "# Finally \n",
    "D(error)/D(m) = 1/n*sum(0+ 2mx^2 + 0 + 2xb - 2yx - 0)\n",
    "              = 1/n*sum(2mx^2 +2xb - 2yx )\n",
    "              = 1/n* sum(2(mx^2 +bx  -yx))\n",
    "              = 2/n* sum((mx^2 +bx  -yx))\n",
    "              = -2/n* sum(x(-mx  - b  + y))\n",
    "              = -2/n* sum(x( y - (mx  + b)))\n",
    "              = -2/n* sum(x( y - (y_pred)))\n",
    "# Lets call it L(m)\n",
    "\n",
    "L(m) = = -2/n* sum(x( y - (y_pred)))\n",
    "\n",
    "\"\"\""
   ]
  },
  {
   "cell_type": "raw",
   "id": "ca9a4c90-be7d-4279-a0ce-8df502650b36",
   "metadata": {},
   "source": [
    "# partial derrivative w.r.t b\n",
    "# D(error)/D(b) =  D((sum([y - m*x + b]^2))/n)/D(b)\n",
    "#               = 1/n*D((sum([y - m*x + b]^2)))/D(cb\n",
    "#               = 1/n*D((sum([y^2 + (m*x + b)^2  - 2*y(m*x + b)])))/D(b)\n",
    "#               = 1/n*D((sum([y^2 + m^2*x^2 + b^2 + 2mxb - 2*y*m*x -2*y*b)])))/D(b)\n",
    "\n",
    "\n",
    "# Now lets compute partial derrivative of all the above terms w.r.t b\n",
    "\"\"\"\n",
    "D(y^2)/D(b)  = 0\n",
    "D(m^2*x^2)/D(b)  = 0\n",
    "D( b^2)/D(b)  = 2b\n",
    "D(2mxb)/D(b)  = 2mx\n",
    "D(2*y*m*x)/D(b)  =0\n",
    "D(-2*y*b)/D(b)  = -2y\n",
    "\n",
    "# Finally \n",
    "D(error)/D(b) = 1/n*sum(0+ 0 + 2b + 2mx - 0 - 2y)\n",
    "              = 1/n*sum(2b +2mx - 2y )\n",
    "              = 1/n* sum(2(b +mx  -y))\n",
    "              = -2/n* sum(-b -mx + y)\n",
    "              = -2/n* sum((-mx  - b  + y))\n",
    "              = -2/n* sum(( y - (mx  + b)))\n",
    "              = -2/n* sum(( y - (y_pred)))\n",
    "# Lets call it L(b)\n",
    "\n",
    "L(b) = = -2/n* sum(( y - (y_pred)))\n",
    "\n",
    "\"\"\""
   ]
  },
  {
   "cell_type": "code",
   "execution_count": 48,
   "id": "e046f6cb-737c-4cd3-bb2d-e6fdd67b40a2",
   "metadata": {},
   "outputs": [],
   "source": [
    "# Now steps for gradient descent."
   ]
  },
  {
   "cell_type": "code",
   "execution_count": 51,
   "id": "4aefa609-f224-4c7b-9dc0-bc1ee525724c",
   "metadata": {},
   "outputs": [],
   "source": [
    "#Step 1 calculate update m and update b\n",
    "# m = m - alpha*delta_m (small change in m)\n",
    "# b = b - alpha*delta_b (small change in b)\n",
    "\n",
    "#m =  m - alpha*(-2/n* sum(x( y - (y_pred))))\n",
    "#b =  b - alpha*(-2/n* sum(( y - (y_pred))))\n",
    "\n"
   ]
  },
  {
   "cell_type": "code",
   "execution_count": 52,
   "id": "39b26d90-0674-462f-962a-c2abb01eba7f",
   "metadata": {},
   "outputs": [],
   "source": [
    "#Lets calculate step 1 manullay"
   ]
  },
  {
   "cell_type": "code",
   "execution_count": 66,
   "id": "812c47e7-0b8e-4c7b-ad66-734018792e61",
   "metadata": {},
   "outputs": [],
   "source": [
    "alpha= 0.001\n",
    "n = X.shape[0]"
   ]
  },
  {
   "cell_type": "code",
   "execution_count": 72,
   "id": "9abab71b-013d-460b-9e9a-8aa229e6671d",
   "metadata": {},
   "outputs": [
    {
     "data": {
      "text/plain": [
       "0.0001529304469922772"
      ]
     },
     "execution_count": 72,
     "metadata": {},
     "output_type": "execute_result"
    }
   ],
   "source": [
    "alpha*(-2/n)* (X*(Y - Y_pred)).sum()"
   ]
  },
  {
   "cell_type": "code",
   "execution_count": 164,
   "id": "74217d4a-ad75-4dd5-b1de-1bb6dbac611f",
   "metadata": {},
   "outputs": [],
   "source": []
  },
  {
   "cell_type": "code",
   "execution_count": 165,
   "id": "8b91250d-c288-4981-a13a-110ff6c88e71",
   "metadata": {},
   "outputs": [],
   "source": [
    "#get_updtated_m(alpha, m, X, Y, Y_pred), get_updtated_b(alpha, b, X, Y, Y_pred)"
   ]
  },
  {
   "cell_type": "code",
   "execution_count": 166,
   "id": "7f228738-df31-4eb4-b165-42100724e2b7",
   "metadata": {},
   "outputs": [],
   "source": [
    "# Step 2 calculate error back"
   ]
  },
  {
   "cell_type": "code",
   "execution_count": 167,
   "id": "8223509e-fc20-4fe2-a120-08abe70abe57",
   "metadata": {},
   "outputs": [],
   "source": [
    "\n"
   ]
  },
  {
   "cell_type": "code",
   "execution_count": 168,
   "id": "83cf1cec-5b85-4485-be72-a95731b66c5a",
   "metadata": {},
   "outputs": [],
   "source": [
    "#get_error_and_updated_pred(X, Y, m_, b_, alpha)"
   ]
  },
  {
   "cell_type": "code",
   "execution_count": 169,
   "id": "e00a7261-a716-476c-8e58-e50aac085b3a",
   "metadata": {},
   "outputs": [],
   "source": [
    "# Now lets run above repeat above seteps till we get minimum val of error."
   ]
  },
  {
   "cell_type": "code",
   "execution_count": 170,
   "id": "8f3e172d-845f-476f-bb2f-731829f3a1b0",
   "metadata": {},
   "outputs": [],
   "source": [
    "# Lets start by running till 10 times:"
   ]
  },
  {
   "cell_type": "code",
   "execution_count": 171,
   "id": "be91ef35-a4a3-4d84-9cbc-387e16ccf12f",
   "metadata": {},
   "outputs": [],
   "source": [
    "# Lets start by intializing variables again from fresh"
   ]
  },
  {
   "cell_type": "code",
   "execution_count": 172,
   "id": "9b867825-4381-4d4d-98cf-50d867d3b5ec",
   "metadata": {},
   "outputs": [],
   "source": []
  },
  {
   "cell_type": "code",
   "execution_count": 2,
   "id": "e5eaeb82-d59c-4316-b061-487328aa5fa4",
   "metadata": {},
   "outputs": [],
   "source": [
    "def get_updtated_m(alpha, m, X, Y, Y_pred, n):\n",
    "    return   m - alpha*((-2/n)* np.sum(X * (Y -Y_pred)))\n",
    "\n",
    "def get_updtated_b(alpha, b, X, Y, Y_pred, n):\n",
    "    return   b - alpha*((-2/n)* np.sum(Y -Y_pred))\n",
    "def get_error_and_updated_pred(X, Y, m, b, alpha):\n",
    "    Y_pred = m*X + b \n",
    "    error = Y - Y_pred\n",
    "    sq_error = error*error\n",
    "    mse = np.mean(sq_error)\n",
    "    return mse, Y_pred"
   ]
  },
  {
   "cell_type": "code",
   "execution_count": 3,
   "id": "7c074f2a-b71e-4018-9d79-8048aa3b17b9",
   "metadata": {},
   "outputs": [
    {
     "data": {
      "text/plain": [
       "array([0.8172328 , 0.64130269, 0.87029847, 0.54311593, 0.18526246,\n",
       "       0.94908182, 0.27423851, 0.69464069, 0.27300947, 0.74009053])"
      ]
     },
     "execution_count": 3,
     "metadata": {},
     "output_type": "execute_result"
    }
   ],
   "source": [
    "np.random.random(10)"
   ]
  },
  {
   "cell_type": "code",
   "execution_count": 4,
   "id": "c0fbcf1c-8ca6-42e0-9271-985871ffaca5",
   "metadata": {},
   "outputs": [],
   "source": [
    "X = np.array([600, 800, 1000, 1200, 1500, 1800, 2000, 2500])\n",
    "Y = np.array([150, 180, 200, 220, 270, 300, 330, 400]) "
   ]
  },
  {
   "cell_type": "code",
   "execution_count": 5,
   "id": "3e8b1f4b-e38c-454c-b114-522ff584f6ad",
   "metadata": {},
   "outputs": [],
   "source": [
    "\n",
    "# Initialize StandardScaler\n",
    "scaler_X = StandardScaler()\n",
    "scaler_Y = StandardScaler()\n",
    "\n",
    "# Fit and transform the data\n",
    "X = scaler_X.fit_transform(X.reshape(-1, 1))\n",
    "Y = scaler_Y.fit_transform(Y.reshape(-1, 1))"
   ]
  },
  {
   "cell_type": "code",
   "execution_count": 6,
   "id": "719009ca-0d6f-4c6a-9587-0cb6683d22ed",
   "metadata": {},
   "outputs": [],
   "source": [
    "# let m and b = 0 as intial value and also define X and Y\n",
    "\n",
    "m = b = 0\n",
    "alpha = 0.0001"
   ]
  },
  {
   "cell_type": "code",
   "execution_count": 7,
   "id": "58ce6b6c-1771-4f6f-9c79-f7eac2afb4dd",
   "metadata": {},
   "outputs": [
    {
     "name": "stdout",
     "output_type": "stream",
     "text": [
      "updated m :0, updated b :0 , i value 0\n",
      "updated m :0.18104152446700522, updated b :1.820765760385252e-18 , i value 1000\n",
      "updated m :0.3292628232813175, updated b :3.4749980670767255e-18 , i value 2000\n",
      "updated m :0.45061373151566314, updated b :5.934142066621516e-18 , i value 3000\n",
      "updated m :0.54996546468155, updated b :8.504308368628676e-18 , i value 4000\n",
      "updated m :0.6313061569489976, updated b :1.1457501614131395e-17 , i value 5000\n",
      "updated m :0.697900951098194, updated b :1.508793090465533e-17 , i value 6000\n",
      "updated m :0.7524230664644078, updated b :1.8762769116164195e-17 , i value 7000\n",
      "updated m :0.7970611061488179, updated b :2.2359891715949306e-17 , i value 8000\n",
      "updated m :0.8336069109746803, updated b :2.611244553918192e-17 , i value 9000\n",
      "updated m :0.8635274867842989, updated b :2.923217223837836e-17 , i value 10000\n",
      "updated m :0.8880238923510891, updated b :3.189809527626019e-17 , i value 11000\n",
      "updated m :0.9080794517598004, updated b :3.4526548287060746e-17 , i value 12000\n",
      "updated m :0.9244992265753216, updated b :3.690381333854011e-17 , i value 13000\n",
      "updated m :0.9379423322747461, updated b :3.9300507292950186e-17 , i value 14000\n",
      "updated m :0.9489483961749096, updated b :4.185610191775953e-17 , i value 15000\n",
      "updated m :0.9579592189180254, updated b :4.4626108364199626e-17 , i value 16000\n",
      "updated m :0.9653365090413942, updated b :4.730382752171787e-17 , i value 17000\n",
      "updated m :0.9713764025245877, updated b :4.975082845693105e-17 , i value 18000\n",
      "updated m :0.9763213501514644, updated b :5.1974397008438386e-17 , i value 19000\n",
      "updated m :0.9803698498643457, updated b :5.423578253172187e-17 , i value 20000\n",
      "updated m :0.9836844147823076, updated b :5.55094165077842e-17 , i value 21000\n",
      "updated m :0.9863980967322968, updated b :5.551080428656494e-17 , i value 22000\n",
      "updated m :0.9886198271578476, updated b :5.550108983509939e-17 , i value 23000\n",
      "updated m :0.9904387897978261, updated b :5.551184512065036e-17 , i value 24000\n",
      "updated m :0.9919280006613904, updated b :5.5510804286564876e-17 , i value 25000\n",
      "updated m :0.9931472390049468, updated b :5.5506294005527334e-17 , i value 26000\n",
      "updated m :0.9941454469651253, updated b :5.551115123126018e-17 , i value 27000\n",
      "updated m :0.9949626941728035, updated b :5.550421233735631e-17 , i value 28000\n",
      "updated m :0.995631786210839, updated b :5.5504559282051454e-17 , i value 29000\n",
      "updated m :0.99617958148154, updated b :5.550386539266107e-17 , i value 30000\n",
      "updated m :0.9966280693450115, updated b :5.5510804286565036e-17 , i value 31000\n",
      "updated m :0.9969952528064948, updated b :5.550455928205148e-17 , i value 32000\n",
      "updated m :0.9972958711852048, updated b :5.5507334839613097e-17 , i value 33000\n",
      "updated m :0.9975419917736779, updated b :5.551600845699307e-17 , i value 34000\n",
      "updated m :0.9977434942377998, updated b :5.549692649875734e-17 , i value 35000\n",
      "updated m :0.9979084672020657, updated b :5.551080428656524e-17 , i value 36000\n",
      "updated m :0.9980435329396316, updated b :5.551184512065077e-17 , i value 37000\n",
      "updated m :0.9981541132007447, updated b :5.551462067821239e-17 , i value 38000\n",
      "updated m :0.9982446468502675, updated b :5.551462067821245e-17 , i value 39000\n",
      "updated m :0.9983187680506835, updated b :5.550976345247988e-17 , i value 40000\n",
      "updated m :0.9983794521430621, updated b :5.550594706083269e-17 , i value 41000\n",
      "updated m :0.9984291350819159, updated b :5.550629400552781e-17 , i value 42000\n",
      "updated m :0.9984698112182198, updated b :5.550629400552778e-17 , i value 43000\n",
      "updated m :0.9985031133557877, updated b :5.5505600116137475e-17 , i value 44000\n",
      "updated m :0.9985303782945814, updated b :5.5509069563089415e-17 , i value 45000\n",
      "updated m :0.9985527004919454, updated b :5.5505253171442385e-17 , i value 46000\n",
      "updated m :0.9985709759958412, updated b :5.5505600116137586e-17 , i value 47000\n",
      "updated m :0.9985859384136175, updated b :5.550143677979529e-17 , i value 48000\n",
      "updated m :0.9985981883601558, updated b :5.550421233735683e-17 , i value 49000\n",
      "updated m :0.9986082175674971, updated b :5.551184512065113e-17 , i value 50000\n",
      "updated m :0.998616428623735, updated b :5.551011039717512e-17 , i value 51000\n",
      "updated m :0.9986231511335226, updated b :5.551045734187038e-17 , i value 52000\n",
      "updated m :0.9986286549489278, updated b :5.551080428656565e-17 , i value 53000\n",
      "updated m :0.9986331610017283, updated b :5.550837567369919e-17 , i value 54000\n",
      "updated m :0.9986368501719368, updated b :5.550802872900393e-17 , i value 55000\n",
      "updated m :0.9986398705486225, updated b :5.550768178430879e-17 , i value 56000\n",
      "updated m :0.998642343374437, updated b :5.5503865392661644e-17 , i value 57000\n",
      "updated m :0.9986443679124828, updated b :5.551184512065113e-17 , i value 58000\n",
      "updated m :0.9986460254308863, updated b :5.551115123126081e-17 , i value 59000\n",
      "updated m :0.9986473824650325, updated b :5.551288595473683e-17 , i value 60000\n",
      "updated m :0.9986484934883971, updated b :5.550872261839459e-17 , i value 61000\n",
      "updated m :0.9986494030991986, updated b :5.551080428656587e-17 , i value 62000\n",
      "updated m :0.9986501478106395, updated b :5.551011039717554e-17 , i value 63000\n",
      "updated m :0.9986507575166015, updated b :5.550455928205247e-17 , i value 64000\n",
      "updated m :0.9986512566916389, updated b :5.5503518447966826e-17 , i value 65000\n",
      "updated m :0.9986516653734172, updated b :5.550837567369962e-17 , i value 66000\n",
      "updated m :0.9986519999670659, updated b :5.5505253171442983e-17 , i value 67000\n",
      "updated m :0.9986522739036957, updated b :5.551635540168926e-17 , i value 68000\n",
      "updated m :0.998652498179551, updated b :5.550837567369983e-17 , i value 69000\n",
      "updated m :0.998652681797418, updated b :5.551045734187116e-17 , i value 70000\n",
      "updated m :0.9986528321280065, updated b :5.551704929107989e-17 , i value 71000\n",
      "updated m :0.9986529552058194, updated b :5.550976345248081e-17 , i value 72000\n",
      "updated m :0.9986530559713962, updated b :5.551115123126157e-17 , i value 73000\n",
      "updated m :0.9986531384696227, updated b :5.551253901004233e-17 , i value 74000\n",
      "updated m :0.9986532060121057, updated b :5.550941650778557e-17 , i value 75000\n",
      "updated m :0.9986532613101073, updated b :5.54983142775394e-17 , i value 76000\n",
      "updated m :0.9986533065833769, updated b :5.551323289943266e-17 , i value 77000\n",
      "updated m :0.9986533436492535, updated b :5.5502130669186454e-17 , i value 78000\n",
      "updated m :0.9986533739956186, updated b :5.551080428656644e-17 , i value 79000\n",
      "updated m :0.9986533988406259, updated b :5.5501783724491284e-17 , i value 80000\n",
      "updated m :0.9986534191815889, updated b :5.550629400552884e-17 , i value 81000\n",
      "updated m :0.9986534358350286, updated b :5.550351844796726e-17 , i value 82000\n",
      "updated m :0.9986534494694393, updated b :5.55121920653472e-17 , i value 83000\n",
      "updated m :0.9986534606321269, updated b :5.551115123126164e-17 , i value 84000\n",
      "updated m :0.9986534697711791, updated b :5.5507681784309696e-17 , i value 85000\n",
      "updated m :0.9986534772534531, updated b :5.550664095022421e-17 , i value 86000\n",
      "updated m :0.9986534833792979, updated b :5.549935511162512e-17 , i value 87000\n",
      "updated m :0.9986534883946154, updated b :5.55114981759569e-17 , i value 88000\n",
      "updated m :0.9986534925007283, updated b :5.551045734187131e-17 , i value 89000\n",
      "updated m :0.9986534958624629, updated b :5.5509069563090475e-17 , i value 90000\n",
      "updated m :0.9986534986147633, updated b :5.5510457341871314e-17 , i value 91000\n",
      "updated m :0.9986535008681104, updated b :5.550768178430976e-17 , i value 92000\n",
      "updated m :0.9986535027129585, updated b :5.549588566467316e-17 , i value 93000\n",
      "updated m :0.9986535042233614, updated b :5.550733483961456e-17 , i value 94000\n",
      "updated m :0.9986535054599512, updated b :5.5510110397176243e-17 , i value 95000\n",
      "updated m :0.9986535064723631, updated b :5.5506987894919437e-17 , i value 96000\n",
      "updated m :0.9986535073012417, updated b :5.550976345248086e-17 , i value 97000\n",
      "updated m :0.9986535079798547, updated b :5.550455928205301e-17 , i value 98000\n",
      "updated m :0.9986535085354474, updated b :5.55118451206522e-17 , i value 99000\n",
      "Final values -> m: 0.998654, b: 0.000000\n"
     ]
    },
    {
     "data": {
      "image/png": "[encoded data removed]",
      "text/plain": [
       "<Figure size 1000x400 with 1 Axes>"
      ]
     },
     "metadata": {},
     "output_type": "display_data"
    },
    {
     "data": {
      "image/png": "[encoded data removed]",
      "text/plain": [
       "<Figure size 600x400 with 1 Axes>"
      ]
     },
     "metadata": {},
     "output_type": "display_data"
    }
   ],
   "source": [
    "errors =[]\n",
    "\n",
    "for i in range(100000):\n",
    "    if np.isnan(m) or np.isnan(b):\n",
    "        print(f\"Gradient exploded at iteration {i}, stopping...\")\n",
    "        break  #\n",
    "    error, Y_pred = get_error_and_updated_pred(X=X, Y=Y, m=m, b=b, alpha=alpha)\n",
    "    # Y_pred is predicted Y values with given m and b values \n",
    "    if i % 1000 == 0:\n",
    "        print(f\"updated m :{m}, updated b :{b} , i value {i}\")\n",
    "    n = X.shape[0]\n",
    "    m = get_updtated_m(alpha=alpha, m=m, X=X, Y=Y, Y_pred=Y_pred, n=n)\n",
    "    b = get_updtated_b(alpha=alpha, b=b, X=X, Y=Y, Y_pred=Y_pred, n=n)\n",
    "    errors.append(error)  # Store error for plotting\n",
    "# Final values of m and b\n",
    "print(f\"Final values -> m: {m:.6f}, b: {b:.6f}\")\n",
    "\n",
    "# Plot Error Reduction (Convergence of MSE)\n",
    "plt.figure(figsize=(10, 4))\n",
    "plt.plot(errors[:1000])  # Plot only the first 1000 iterations for better visibility\n",
    "plt.xlabel(\"Iterations\")\n",
    "plt.ylabel(\"Mean Squared Error (MSE)\")\n",
    "plt.title(\"Gradient Descent Convergence\")\n",
    "plt.grid()\n",
    "plt.show()\n",
    "\n",
    "# Plot the Regression Line\n",
    "plt.figure(figsize=(6, 4))\n",
    "plt.scatter(X, Y, color='blue', label=\"Actual Data\")  # Scatter plot of data points\n",
    "plt.plot(X, m * X + b, color='red', label=\"Fitted Line\")  # Regression line\n",
    "plt.xlabel(\"X values\")\n",
    "plt.ylabel(\"Y values\")\n",
    "plt.title(\"Linear Regression Fit using Gradient Descent\")\n",
    "plt.legend()\n",
    "plt.grid()\n",
    "plt.show()\n"
   ]
  },
  {
   "cell_type": "code",
   "execution_count": 177,
   "id": "3e7d7618-8d1c-4ab3-b3db-16b09816b146",
   "metadata": {},
   "outputs": [
    {
     "data": {
      "text/plain": [
       "1.3662931647506797e-69"
      ]
     },
     "execution_count": 177,
     "metadata": {},
     "output_type": "execute_result"
    }
   ],
   "source": [
    "error"
   ]
  },
  {
   "cell_type": "code",
   "execution_count": null,
   "id": "559ef466-04ac-4f91-880f-759b9cd8cb57",
   "metadata": {},
   "outputs": [],
   "source": []
  },
  {
   "cell_type": "code",
   "execution_count": null,
   "id": "fdd08ec1-9c7e-49cd-bb91-28d6c2f3bc33",
   "metadata": {},
   "outputs": [],
   "source": []
  }
 ],
 "metadata": {
  "kernelspec": {
   "display_name": "Python 3 (ipykernel)",
   "language": "python",
   "name": "python3"
  },
  "language_info": {
   "codemirror_mode": {
    "name": "ipython",
    "version": 3
   },
   "file_extension": ".py",
   "mimetype": "text/x-python",
   "name": "python",
   "nbconvert_exporter": "python",
   "pygments_lexer": "ipython3",
   "version": "3.9.6"
  }
 },
 "nbformat": 4,
 "nbformat_minor": 5
}
